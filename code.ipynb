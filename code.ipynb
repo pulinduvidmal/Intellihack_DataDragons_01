{
 "cells": [
  {
   "cell_type": "code",
   "execution_count": 86,
   "id": "ba3d1898",
   "metadata": {},
   "outputs": [
    {
     "name": "stdout",
     "output_type": "stream",
     "text": [
      "    N   P   K  temperature   humidity        ph    rainfall  Total_Nutrients  \\\n",
      "0  90  42  43    20.879744  82.002744  6.502985  202.935536              175   \n",
      "1  85  58  41    21.770462  80.319644  7.038096  226.655537              184   \n",
      "2  60  55  44    23.004459  82.320763  7.840207  263.964248              159   \n",
      "3  74  35  40    26.491096  80.158363  6.980401  242.864034              149   \n",
      "4  78  42  42    20.130175  81.604873  7.628473  262.717340              162   \n",
      "\n",
      "   Temperature_Humidity  Log_Rainfall  Label  Label_Encoded  \n",
      "0           1712.196283      5.317804  wheat              0  \n",
      "1           1748.595734      5.427834  wheat              0  \n",
      "2           1893.744627      5.579595  wheat              0  \n",
      "3           2123.482908      5.496611  wheat              0  \n",
      "4           1642.720357      5.574878  wheat              0  \n",
      "                 N            P            K  temperature     humidity  \\\n",
      "count  2200.000000  2200.000000  2200.000000  2200.000000  2200.000000   \n",
      "mean     50.551818    53.362727    48.149091    25.616244    71.481779   \n",
      "std      36.917334    32.985883    50.647931     5.063749    22.263812   \n",
      "min       0.000000     5.000000     5.000000     8.825675    14.258040   \n",
      "25%      21.000000    28.000000    20.000000    22.769375    60.261953   \n",
      "50%      37.000000    51.000000    32.000000    25.598693    80.473146   \n",
      "75%      84.250000    68.000000    49.000000    28.561654    89.948771   \n",
      "max     140.000000   145.000000   205.000000    43.675493    99.981876   \n",
      "\n",
      "                ph     rainfall  Total_Nutrients  Temperature_Humidity  \\\n",
      "count  2200.000000  2200.000000      2200.000000           2200.000000   \n",
      "mean      6.469480   103.463655       152.063636           1854.231566   \n",
      "std       0.773938    54.958389        79.918669            699.366334   \n",
      "min       3.504752    20.211267        17.000000            247.613182   \n",
      "25%       5.971693    64.551686        94.000000           1479.558114   \n",
      "50%       6.425045    94.867624       146.000000           1927.883340   \n",
      "75%       6.923643   124.267508       179.000000           2255.752423   \n",
      "max       9.935091   298.560117       385.000000           4073.159566   \n",
      "\n",
      "       Log_Rainfall  Label_Encoded  \n",
      "count   2200.000000    2200.000000  \n",
      "mean       4.508730      10.500000  \n",
      "std        0.545400       6.345731  \n",
      "min        3.054533       0.000000  \n",
      "25%        4.182839       5.000000  \n",
      "50%        4.562968      10.500000  \n",
      "75%        4.830451      16.000000  \n",
      "max        5.702315      21.000000  \n",
      "<class 'pandas.core.frame.DataFrame'>\n",
      "RangeIndex: 2200 entries, 0 to 2199\n",
      "Data columns (total 12 columns):\n",
      " #   Column                Non-Null Count  Dtype  \n",
      "---  ------                --------------  -----  \n",
      " 0   N                     2200 non-null   int64  \n",
      " 1   P                     2200 non-null   int64  \n",
      " 2   K                     2200 non-null   int64  \n",
      " 3   temperature           2200 non-null   float64\n",
      " 4   humidity              2200 non-null   float64\n",
      " 5   ph                    2200 non-null   float64\n",
      " 6   rainfall              2200 non-null   float64\n",
      " 7   Total_Nutrients       2200 non-null   int64  \n",
      " 8   Temperature_Humidity  2200 non-null   float64\n",
      " 9   Log_Rainfall          2200 non-null   float64\n",
      " 10  Label                 2200 non-null   object \n",
      " 11  Label_Encoded         2200 non-null   int64  \n",
      "dtypes: float64(6), int64(5), object(1)\n",
      "memory usage: 206.4+ KB\n",
      "None\n"
     ]
    }
   ],
   "source": [
    "#Data Exploration and Preprocessing\n",
    "import pandas as pd\n",
    "import numpy as np\n",
    "from sklearn.preprocessing import LabelEncoder\n",
    "\n",
    "# Load the dataset\n",
    "data = pd.read_csv('Crop_Dataset.csv')\n",
    "\n",
    "# Explore the dataset\n",
    "print(data.head())\n",
    "print(data.describe())\n",
    "print(data.info())\n",
    "\n",
    "# Handle missing values\n",
    "data = data.dropna()\n",
    "\n",
    "# Encode categorical variable (Label)\n",
    "label_encoder = LabelEncoder()\n",
    "data['Label_Encoded'] = label_encoder.fit_transform(data['Label'])\n",
    "\n",
    "# Split the features and target variable\n",
    "X = data.drop(['Label', 'Label_Encoded'], axis=1)\n",
    "y = data['Label_Encoded']\n",
    "\n",
    "# Split the dataset into training and testing sets\n",
    "from sklearn.model_selection import train_test_split\n",
    "X_train, X_test, y_train, y_test = train_test_split(X, y, test_size=0.2, random_state=42)"
   ]
  },
  {
   "cell_type": "code",
   "execution_count": 75,
   "id": "20a62ccc",
   "metadata": {},
   "outputs": [
    {
     "data": {
      "text/plain": [
       "RandomForestClassifier(random_state=42)"
      ]
     },
     "execution_count": 75,
     "metadata": {},
     "output_type": "execute_result"
    }
   ],
   "source": [
    "#Model Training\n",
    "from sklearn.ensemble import RandomForestClassifier\n",
    "\n",
    "# Create the Random Forest Classifier\n",
    "rf_classifier = RandomForestClassifier(n_estimators=100, random_state=42)\n",
    "\n",
    "# Train the model\n",
    "rf_classifier.fit(X_train, y_train)"
   ]
  },
  {
   "cell_type": "code",
   "execution_count": 76,
   "id": "cbd18909",
   "metadata": {},
   "outputs": [
    {
     "name": "stdout",
     "output_type": "stream",
     "text": [
      "Accuracy: 99.09%\n"
     ]
    }
   ],
   "source": [
    "#Model Evaluation\n",
    "from sklearn.metrics import accuracy_score\n",
    "\n",
    "# Make predictions on the testing set\n",
    "y_pred = rf_classifier.predict(X_test)\n",
    "\n",
    "# Calculate the accuracy\n",
    "accuracy = accuracy_score(y_test, y_pred)\n",
    "print(f\"Accuracy: {accuracy * 100:.2f}%\")"
   ]
  },
  {
   "cell_type": "code",
   "execution_count": 84,
   "id": "1e19ee32",
   "metadata": {},
   "outputs": [
    {
     "name": "stdout",
     "output_type": "stream",
     "text": [
      "Predictions: [0]\n",
      "Accuracy on new data: 100.00%\n"
     ]
    }
   ],
   "source": [
    "#Joblib Model Creation and Prediction\n",
    "import joblib\n",
    "\n",
    "# Save the model as a joblib file\n",
    "joblib.dump(rf_classifier, 'crop_prediction_model.joblib')\n",
    "\n",
    "# Load the saved model\n",
    "loaded_model = joblib.load('crop_prediction_model.joblib')\n",
    "\n",
    "# Make predictions on new data\n",
    "new_data = np.array([90, 42, 43, 20.87974371, 82.00274423, 6.502985292, 202.9355362,175,1712.2,5.32])\n",
    "\n",
    "# predictions = loaded_model.predict(new_data)\n",
    "print(\"Predictions:\", predictions)\n",
    "\n",
    "# Calculate the accuracy on new data\n",
    "new_labels = [0]  # Provide the true labels for the new data\n",
    "accuracy = accuracy_score(new_labels, predictions)\n",
    "print(f\"Accuracy on new data: {accuracy * 100:.2f}%\")"
   ]
  },
  {
   "cell_type": "code",
   "execution_count": null,
   "id": "163a1fc3",
   "metadata": {},
   "outputs": [],
   "source": []
  }
 ],
 "metadata": {
  "kernelspec": {
   "display_name": "Python 3",
   "language": "python",
   "name": "python3"
  },
  "language_info": {
   "codemirror_mode": {
    "name": "ipython",
    "version": 3
   },
   "file_extension": ".py",
   "mimetype": "text/x-python",
   "name": "python",
   "nbconvert_exporter": "python",
   "pygments_lexer": "ipython3",
   "version": "3.6.13"
  }
 },
 "nbformat": 4,
 "nbformat_minor": 5
}
